{
 "cells": [
  {
   "cell_type": "code",
   "id": "initial_id",
   "metadata": {
    "collapsed": true,
    "ExecuteTime": {
     "end_time": "2025-07-11T16:42:06.525583Z",
     "start_time": "2025-07-11T16:42:03.449025Z"
    }
   },
   "source": [
    "import os\n",
    "import random\n",
    "import shutil\n",
    "from extratorFeatures import *\n"
   ],
   "outputs": [],
   "execution_count": 1
  },
  {
   "metadata": {},
   "cell_type": "markdown",
   "source": "Extrair frames dos videos",
   "id": "31577b9c95a974da"
  },
  {
   "metadata": {
    "ExecuteTime": {
     "end_time": "2025-07-01T17:40:18.180037Z",
     "start_time": "2025-07-01T17:40:18.173089Z"
    }
   },
   "cell_type": "code",
   "source": [
    "def extrair_frames(caminho_video, pasta_saida):\n",
    "    \"\"\"\n",
    "    Extrai todos os frames de um vídeo e os salva como imagens em uma pasta.\n",
    "\n",
    "    :param caminho_video: O caminho para o arquivo de vídeo.\n",
    "    :param pasta_saida: O nome da pasta onde os frames serão salvos.\n",
    "    \"\"\"\n",
    "    if not os.path.exists(pasta_saida):\n",
    "        os.makedirs(pasta_saida)\n",
    "        print(f\"Pasta '{pasta_saida}' criada.\")\n",
    "\n",
    "    contador_frame = 0\n",
    "\n",
    "    for video in caminho_video:\n",
    "        if not os.path.exists(video):\n",
    "            print(f\"Erro: O arquivo de vídeo '{video}' não foi encontrado.\")\n",
    "            return\n",
    "\n",
    "        captura = cv2.VideoCapture(video)\n",
    "        if not captura.isOpened():\n",
    "            print(f\"Erro: Não foi possível abrir o vídeo '{video}'.\")\n",
    "            return\n",
    "\n",
    "        print(\"Iniciando a extração dos frames...\")\n",
    "\n",
    "        while True:\n",
    "            sucesso, frame = captura.read()\n",
    "            if not sucesso:\n",
    "                break\n",
    "\n",
    "            nome_arquivo = os.path.join(pasta_saida, f\"frame2_{contador_frame:05d}.jpg\")\n",
    "            cv2.imwrite(nome_arquivo, frame)\n",
    "            contador_frame += 1\n",
    "\n",
    "        captura.release()\n",
    "\n",
    "    print(f\"\\nExtração concluída! Foram salvos {contador_frame} frames na pasta '{pasta_saida}'.\")"
   ],
   "id": "2c2c34f5ab5b6b1",
   "outputs": [],
   "execution_count": 2
  },
  {
   "metadata": {
    "ExecuteTime": {
     "end_time": "2025-07-01T17:43:06.974771Z",
     "start_time": "2025-07-01T17:42:31.219322Z"
    }
   },
   "cell_type": "code",
   "source": [
    "caminho_do_video = [\"Videos/Normal/Normal1.mp4\", \"Videos/Normal/Normal2.mp4\"]\n",
    "pasta_de_saida = \"FrameVideos/Normal\"\n",
    "extrair_frames(caminho_do_video, pasta_de_saida)"
   ],
   "id": "30767f1d4b955170",
   "outputs": [
    {
     "name": "stdout",
     "output_type": "stream",
     "text": [
      "Pasta 'frameVideos/Normal' criada.\n",
      "Iniciando a extração dos frames...\n",
      "Iniciando a extração dos frames...\n",
      "\n",
      "Extração concluída! Foram salvos 4001 frames na pasta 'frameVideos/Normal'.\n"
     ]
    }
   ],
   "execution_count": 5
  },
  {
   "metadata": {
    "ExecuteTime": {
     "end_time": "2025-07-01T17:41:52.475764Z",
     "start_time": "2025-07-01T17:41:19.183082Z"
    }
   },
   "cell_type": "code",
   "source": [
    "caminho_do_video = [\"Videos/Fire/Fire1.mp4\", \"Videos/Fire/Fire2.mp4\"]\n",
    "pasta_de_saida = \"FrameVideos/Fire\"\n",
    "extrair_frames(caminho_do_video, pasta_de_saida)"
   ],
   "id": "8e099ec0eb0ba59c",
   "outputs": [
    {
     "name": "stdout",
     "output_type": "stream",
     "text": [
      "Iniciando a extração dos frames...\n",
      "Iniciando a extração dos frames...\n",
      "\n",
      "Extração concluída! Foram salvos 1916 frames na pasta 'frameVideos/Fire'.\n"
     ]
    }
   ],
   "execution_count": 4
  },
  {
   "metadata": {},
   "cell_type": "markdown",
   "source": "Randomizador de frames",
   "id": "f87384320dac7686"
  },
  {
   "metadata": {
    "ExecuteTime": {
     "end_time": "2025-07-11T16:44:11.541998Z",
     "start_time": "2025-07-11T16:44:11.345057Z"
    }
   },
   "cell_type": "code",
   "source": [
    "def mover_arquivos_aleatorios(pasta_origem, pasta_destino, numero_de_arquivos):\n",
    "    \"\"\"\n",
    "    Move um número específico de arquivos selecionados aleatoriamente de uma\n",
    "    pasta de origem para uma pasta de destino. O arquivo original é deletado.\n",
    "\n",
    "    Args:\n",
    "        pasta_origem (str): O caminho para a pasta de onde os arquivos serão lidos.\n",
    "        pasta_destino (str): O caminho para a pasta para onde os arquivos serão movidos.\n",
    "        numero_de_arquivos (int): A quantidade de arquivos aleatórios a serem movidos.\n",
    "    \"\"\"\n",
    "\n",
    "    if not os.path.isdir(pasta_origem):\n",
    "        print(f\"Erro: A pasta de origem '{pasta_origem}' não foi encontrada.\")\n",
    "        return\n",
    "\n",
    "    if not os.path.isdir(pasta_destino):\n",
    "        print(f\"A pasta de destino '{pasta_destino}' não existe. Criando...\")\n",
    "        os.makedirs(pasta_destino)\n",
    "\n",
    "    try:\n",
    "        arquivos_disponiveis = [f for f in os.listdir(pasta_origem) if os.path.isfile(os.path.join(pasta_origem, f))]\n",
    "    except Exception as e:\n",
    "        print(f\"Erro ao ler os arquivos da pasta de origem: {e}\")\n",
    "        return\n",
    "\n",
    "    if not arquivos_disponiveis:\n",
    "        print(f\"A pasta de origem '{pasta_origem}' está vazia. Nenhum arquivo para mover.\")\n",
    "        return\n",
    "\n",
    "    num_disponiveis = len(arquivos_disponiveis)\n",
    "    if num_disponiveis < numero_de_arquivos:\n",
    "        print(f\"Aviso: Você pediu para mover {numero_de_arquivos} arquivos, mas só existem {num_disponiveis}.\")\n",
    "        print(\"Movendo todos os arquivos disponíveis.\")\n",
    "        numero_de_arquivos = num_disponiveis\n",
    "\n",
    "    arquivos_para_mover = random.sample(arquivos_disponiveis, numero_de_arquivos)\n",
    "    print(f\"Selecionando {len(arquivos_para_mover)} de {num_disponiveis} arquivos para mover...\")\n",
    "\n",
    "    arquivos_movidos = 0\n",
    "    for nome_do_arquivo in arquivos_para_mover:\n",
    "        caminho_origem_completo = os.path.join(pasta_origem, nome_do_arquivo)\n",
    "        caminho_destino_completo = os.path.join(pasta_destino, nome_do_arquivo)\n",
    "\n",
    "        try:\n",
    "            shutil.move(caminho_origem_completo, caminho_destino_completo)\n",
    "            arquivos_movidos += 1\n",
    "        except Exception as e:\n",
    "            print(f\"Não foi possível mover o arquivo '{nome_do_arquivo}'. Erro: {e}\")\n",
    "\n",
    "    print(f\"\\nConcluído! {arquivos_movidos} arquivos foram movidos com sucesso para '{pasta_destino}'.\")\n",
    "\n",
    "if __name__ == '__main__':\n",
    "    os.makedirs('pasta_origem_exemplo', exist_ok=True)\n",
    "    os.makedirs('pasta_destino_exemplo', exist_ok=True)\n",
    "\n",
    "    for i in range(10):\n",
    "        with open(f'pasta_origem_exemplo/arquivo_{i+1}.txt', 'w') as f:\n",
    "            f.write(f'Este é o arquivo {i+1}')\n",
    "\n",
    "    print(\"Arquivos criados na pasta de origem.\")\n",
    "    print(\"-------------------------------------\")\n",
    "\n",
    "    mover_arquivos_aleatorios(\n",
    "        pasta_origem='pasta_origem_exemplo',\n",
    "        pasta_destino='pasta_destino_exemplo',\n",
    "        numero_de_arquivos=3\n",
    "    )\n",
    "\n",
    "    print(\"-------------------------------------\")\n",
    "    print(\"Verificação final:\")\n",
    "    print(f\"Arquivos restantes na origem: {len(os.listdir('pasta_origem_exemplo'))}\")\n",
    "    print(f\"Arquivos movidos para o destino: {len(os.listdir('pasta_destino_exemplo'))}\")\n"
   ],
   "id": "a0a8bffff3ea9c50",
   "outputs": [
    {
     "name": "stdout",
     "output_type": "stream",
     "text": [
      "Arquivos criados na pasta de origem.\n",
      "-------------------------------------\n",
      "Selecionando 3 de 10 arquivos para mover...\n",
      "\n",
      "Concluído! 3 arquivos foram movidos com sucesso para 'pasta_destino_exemplo'.\n",
      "-------------------------------------\n",
      "Verificação final:\n",
      "Arquivos restantes na origem: 7\n",
      "Arquivos movidos para o destino: 3\n"
     ]
    }
   ],
   "execution_count": 2
  },
  {
   "metadata": {
    "ExecuteTime": {
     "end_time": "2025-07-11T16:44:55.041481Z",
     "start_time": "2025-07-11T16:44:53.667417Z"
    }
   },
   "cell_type": "code",
   "source": [
    "pasta_de_origem = 'FrameVideos/Fire'\n",
    "pasta_de_destino = 'Frames2Treinamento/Fire'\n",
    "quantidade_a_copiar = 500\n",
    "mover_arquivos_aleatorios(pasta_de_origem, pasta_de_destino, quantidade_a_copiar)"
   ],
   "id": "8cf72eb353b87d4",
   "outputs": [
    {
     "name": "stdout",
     "output_type": "stream",
     "text": [
      "A pasta de destino 'Frames2Treinamento/Fire' não existe. Criando...\n",
      "Selecionando 500 de 1916 arquivos para mover...\n",
      "\n",
      "Concluído! 500 arquivos foram movidos com sucesso para 'Frames2Treinamento/Fire'.\n"
     ]
    }
   ],
   "execution_count": 5
  },
  {
   "metadata": {},
   "cell_type": "markdown",
   "source": "Função para ver todos os contornos de uma imagem",
   "id": "811c8643aea928b0"
  },
  {
   "metadata": {
    "ExecuteTime": {
     "end_time": "2025-06-28T16:35:33.709009Z",
     "start_time": "2025-06-28T16:35:33.705568Z"
    }
   },
   "cell_type": "code",
   "source": [
    "def verContornos(diretorio):\n",
    "    for nome_arquivo in os.listdir(diretorio):\n",
    "        caminho_img = os.path.join(diretorio, nome_arquivo)\n",
    "        img = cv2.imread(caminho_img)\n",
    "\n",
    "        contornos = extrair_contornos(img)\n",
    "\n",
    "        cv2.drawContours(img, contornos, -1, (0, 255, 0), 2)\n",
    "\n",
    "        cv2.imshow(\"Contornos\", img)\n",
    "\n",
    "        if cv2.waitKey(25) & 0xFF == ord('q'):\n",
    "            break\n",
    "\n",
    "    cv2.destroyAllWindows()"
   ],
   "id": "8de77d9d99d69bd5",
   "outputs": [],
   "execution_count": 2
  },
  {
   "metadata": {
    "ExecuteTime": {
     "end_time": "2025-06-28T22:10:25.596391Z",
     "start_time": "2025-06-28T22:09:58.324815Z"
    }
   },
   "cell_type": "code",
   "source": "verContornos('FrameVideos/Fire')",
   "id": "387691a4fcf7620b",
   "outputs": [],
   "execution_count": 5
  },
  {
   "metadata": {},
   "cell_type": "markdown",
   "source": "Mudar faixa de cor",
   "id": "e011de9d9a0ed676"
  },
  {
   "metadata": {
    "ExecuteTime": {
     "end_time": "2025-07-11T17:19:19.981119Z",
     "start_time": "2025-07-11T17:19:19.779407Z"
    }
   },
   "cell_type": "code",
   "source": [
    "def nada(x):\n",
    "    pass\n",
    "\n",
    "def calibrar_faixa_de_cor(caminho_imagem, lower_inicial=None, upper_inicial=None):\n",
    "    \"\"\"\n",
    "    Abre uma imagem e inicia janelas redimensionáveis para calibrar faixas \n",
    "    de cor HSV, usando valores iniciais fornecidos por parâmetro.\n",
    "\n",
    "    Args:\n",
    "        caminho_imagem (str): O caminho para o arquivo de imagem.\n",
    "        lower_inicial (tuple, optional): Uma tupla (H, S, V) para os valores\n",
    "                                         iniciais da faixa inferior.\n",
    "                                         Defaults to None.\n",
    "        upper_inicial (tuple, optional): Uma tupla (H, S, V) para os valores\n",
    "                                         iniciais da faixa superior.\n",
    "                                         Defaults to None.\n",
    "    \"\"\"\n",
    "    # Carrega a imagem do caminho especificado\n",
    "    img = cv2.imread(caminho_imagem)\n",
    "    if img is None:\n",
    "        print(f\"Erro: Não foi possível carregar a imagem do caminho: {caminho_imagem}\")\n",
    "        return\n",
    "\n",
    "    # Cria as janelas com a flag para serem redimensionáveis\n",
    "    cv2.namedWindow(\"Controles\", cv2.WINDOW_NORMAL)\n",
    "    cv2.namedWindow(\"Resultado com Contornos\", cv2.WINDOW_NORMAL)\n",
    "    cv2.namedWindow(\"Máscara\", cv2.WINDOW_NORMAL)\n",
    "\n",
    "    cv2.resizeWindow(\"Controles\", 640, 240)\n",
    "\n",
    "    # Cria as trackbars para os valores Mínimos e Máximos de H, S, V\n",
    "    cv2.createTrackbar(\"H Min\", \"Controles\", 0, 179, nada)\n",
    "    cv2.createTrackbar(\"S Min\", \"Controles\", 0, 255, nada)\n",
    "    cv2.createTrackbar(\"V Min\", \"Controles\", 0, 255, nada)\n",
    "    cv2.createTrackbar(\"H Max\", \"Controles\", 179, 179, nada)\n",
    "    cv2.createTrackbar(\"S Max\", \"Controles\", 255, 255, nada)\n",
    "    cv2.createTrackbar(\"V Max\", \"Controles\", 255, 255, nada)\n",
    "\n",
    "    # --- MUDANÇA PRINCIPAL AQUI ---\n",
    "    # Define valores padrão se nenhum for fornecido via parâmetro\n",
    "    if lower_inicial is None:\n",
    "        lower_inicial = (0, 0, 0)  # Padrão: Inicia com a faixa toda aberta\n",
    "    if upper_inicial is None:\n",
    "        upper_inicial = (179, 255, 255) # Padrão: Inicia com a faixa toda aberta\n",
    "\n",
    "    # Desempacota os valores para usar no setTrackbarPos\n",
    "    h_min_i, s_min_i, v_min_i = lower_inicial\n",
    "    h_max_i, s_max_i, v_max_i = upper_inicial\n",
    "\n",
    "    # Define a posição inicial das trackbars com base nos parâmetros\n",
    "    cv2.setTrackbarPos(\"H Min\", \"Controles\", h_min_i)\n",
    "    cv2.setTrackbarPos(\"S Min\", \"Controles\", s_min_i)\n",
    "    cv2.setTrackbarPos(\"V Min\", \"Controles\", v_min_i)\n",
    "    cv2.setTrackbarPos(\"H Max\", \"Controles\", h_max_i)\n",
    "    cv2.setTrackbarPos(\"S Max\", \"Controles\", s_max_i)\n",
    "    cv2.setTrackbarPos(\"V Max\", \"Controles\", v_max_i)\n",
    "\n",
    "    # Converte a imagem BGR para HSV uma única vez\n",
    "    img_hsv = cv2.cvtColor(img, cv2.COLOR_BGR2HSV)\n",
    "\n",
    "    while True:\n",
    "        # Obtém os valores atuais das trackbars\n",
    "        h_min = cv2.getTrackbarPos(\"H Min\", \"Controles\")\n",
    "        s_min = cv2.getTrackbarPos(\"S Min\", \"Controles\")\n",
    "        v_min = cv2.getTrackbarPos(\"V Min\", \"Controles\")\n",
    "        h_max = cv2.getTrackbarPos(\"H Max\", \"Controles\")\n",
    "        s_max = cv2.getTrackbarPos(\"S Max\", \"Controles\")\n",
    "        v_max = cv2.getTrackbarPos(\"V Max\", \"Controles\")\n",
    "\n",
    "        lower_bound = np.array([h_min, s_min, v_min])\n",
    "        upper_bound = np.array([h_max, s_max, v_max])\n",
    "\n",
    "        mascara = cv2.inRange(img_hsv, lower_bound, upper_bound)\n",
    "        kernel = np.ones((5, 5), np.uint8)\n",
    "        mascara_limpa = cv2.morphologyEx(mascara, cv2.MORPH_CLOSE, kernel)\n",
    "\n",
    "        contornos, _ = cv2.findContours(mascara_limpa, cv2.RETR_EXTERNAL, cv2.CHAIN_APPROX_SIMPLE)\n",
    "        AreaMin = 100\n",
    "        contornos_filtrados = [c for c in contornos if cv2.contourArea(c) > AreaMin]\n",
    "\n",
    "        resultado_img = img.copy()\n",
    "        if contornos_filtrados:\n",
    "            cv2.drawContours(resultado_img, contornos_filtrados, -1, (0, 255, 0), 2)\n",
    "\n",
    "        cv2.imshow(\"Resultado com Contornos\", resultado_img)\n",
    "        cv2.imshow(\"Máscara\", mascara_limpa)\n",
    "\n",
    "        if cv2.waitKey(1) & 0xFF == ord('q'):\n",
    "            print(\"\\nFaixa de cor final encontrada:\")\n",
    "            print(f\"lower_bound = np.array([{h_min}, {s_min}, {v_min}])\")\n",
    "            print(f\"upper_bound = np.array([{h_max}, {s_max}, {v_max}])\")\n",
    "            break\n",
    "\n",
    "    cv2.destroyAllWindows()"
   ],
   "id": "45f39409d5bfcd6e",
   "outputs": [],
   "execution_count": 19
  },
  {
   "metadata": {
    "ExecuteTime": {
     "end_time": "2025-07-11T17:31:02.777495Z",
     "start_time": "2025-07-11T17:30:59.699411Z"
    }
   },
   "cell_type": "code",
   "source": [
    "lower_bound = np.array([0, 0, 120])\n",
    "upper_bound = np.array([110, 54, 255])\n",
    "\n",
    "calibrar_faixa_de_cor('Frames2Treinamento/Fire/frame_00710.jpg', lower_bound, upper_bound)"
   ],
   "id": "d479618c0298cc4c",
   "outputs": [
    {
     "name": "stdout",
     "output_type": "stream",
     "text": [
      "\n",
      "Faixa de cor final encontrada:\n",
      "lower_bound = np.array([0, 0, 120])\n",
      "upper_bound = np.array([110, 54, 255])\n"
     ]
    }
   ],
   "execution_count": 25
  },
  {
   "metadata": {},
   "cell_type": "code",
   "outputs": [],
   "execution_count": null,
   "source": [
    "lower_bound = np.array([51, 25, 120])\n",
    "upper_bound = np.array([179, 63, 255])"
   ],
   "id": "89d7c73aa3cda0e0"
  }
 ],
 "metadata": {
  "kernelspec": {
   "display_name": "Python 3",
   "language": "python",
   "name": "python3"
  },
  "language_info": {
   "codemirror_mode": {
    "name": "ipython",
    "version": 2
   },
   "file_extension": ".py",
   "mimetype": "text/x-python",
   "name": "python",
   "nbconvert_exporter": "python",
   "pygments_lexer": "ipython2",
   "version": "2.7.6"
  }
 },
 "nbformat": 4,
 "nbformat_minor": 5
}
