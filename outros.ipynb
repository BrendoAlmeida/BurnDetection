{
 "cells": [
  {
   "cell_type": "code",
   "id": "initial_id",
   "metadata": {
    "collapsed": true,
    "ExecuteTime": {
     "end_time": "2025-06-28T16:35:33.549622Z",
     "start_time": "2025-06-28T16:35:32.958054Z"
    }
   },
   "source": [
    "import cv2\n",
    "import os\n",
    "import random\n",
    "import shutil\n",
    "from extratorFeatures import *\n"
   ],
   "outputs": [],
   "execution_count": 1
  },
  {
   "metadata": {},
   "cell_type": "markdown",
   "source": "Extrair frames dos videos",
   "id": "31577b9c95a974da"
  },
  {
   "metadata": {
    "ExecuteTime": {
     "end_time": "2025-06-28T16:01:22.128834Z",
     "start_time": "2025-06-28T16:01:22.124406Z"
    }
   },
   "cell_type": "code",
   "source": [
    "def extrair_frames(caminho_video, pasta_saida):\n",
    "    \"\"\"\n",
    "    Extrai todos os frames de um vídeo e os salva como imagens em uma pasta.\n",
    "\n",
    "    :param caminho_video: O caminho para o arquivo de vídeo.\n",
    "    :param pasta_saida: O nome da pasta onde os frames serão salvos.\n",
    "    \"\"\"\n",
    "    if not os.path.exists(pasta_saida):\n",
    "        os.makedirs(pasta_saida)\n",
    "        print(f\"Pasta '{pasta_saida}' criada.\")\n",
    "\n",
    "    contador_frame = 0\n",
    "\n",
    "    for video in caminho_video:\n",
    "        if not os.path.exists(video):\n",
    "            print(f\"Erro: O arquivo de vídeo '{video}' não foi encontrado.\")\n",
    "            return\n",
    "\n",
    "        captura = cv2.VideoCapture(video)\n",
    "        if not captura.isOpened():\n",
    "            print(f\"Erro: Não foi possível abrir o vídeo '{video}'.\")\n",
    "            return\n",
    "\n",
    "        print(\"Iniciando a extração dos frames...\")\n",
    "\n",
    "        while True:\n",
    "            sucesso, frame = captura.read()\n",
    "            if not sucesso:\n",
    "                break\n",
    "\n",
    "            nome_arquivo = os.path.join(pasta_saida, f\"frame_{contador_frame:05d}.jpg\")\n",
    "            cv2.imwrite(nome_arquivo, frame)\n",
    "            contador_frame += 1\n",
    "\n",
    "        captura.release()\n",
    "\n",
    "    print(f\"\\nExtração concluída! Foram salvos {contador_frame} frames na pasta '{pasta_saida}'.\")"
   ],
   "id": "2c2c34f5ab5b6b1",
   "outputs": [],
   "execution_count": 2
  },
  {
   "metadata": {},
   "cell_type": "code",
   "outputs": [],
   "execution_count": null,
   "source": [
    "caminho_do_video = [\"video/Fire/Fire1.mp4\", \"video/Fire/Fire2.mp4\"]\n",
    "pasta_de_saida = \"frameVideos/Fire\"\n",
    "extrair_frames(caminho_do_video, pasta_de_saida)"
   ],
   "id": "8e099ec0eb0ba59c"
  },
  {
   "metadata": {},
   "cell_type": "markdown",
   "source": "Randomizador de frames",
   "id": "f87384320dac7686"
  },
  {
   "metadata": {
    "ExecuteTime": {
     "end_time": "2025-06-28T16:01:22.145175Z",
     "start_time": "2025-06-28T16:01:22.139285Z"
    }
   },
   "cell_type": "code",
   "source": [
    "def copiar_arquivos_aleatorios(pasta_origem, pasta_destino, numero_de_arquivos):\n",
    "    \"\"\"\n",
    "    Copia um número específico de arquivos selecionados aleatoriamente de uma\n",
    "    pasta de origem para uma pasta de destino.\n",
    "\n",
    "    Args:\n",
    "        pasta_origem (str): O caminho para a pasta de onde os arquivos serão lidos.\n",
    "        pasta_destino (str): O caminho para a pasta onde os arquivos serão copiados.\n",
    "        numero_de_arquivos (int): A quantidade de arquivos aleatórios a serem copiados.\n",
    "    \"\"\"\n",
    "\n",
    "    if not os.path.isdir(pasta_origem):\n",
    "        print(f\"Erro: A pasta de origem '{pasta_origem}' não foi encontrada.\")\n",
    "        return\n",
    "\n",
    "    if not os.path.isdir(pasta_destino):\n",
    "        print(f\"A pasta de destino '{pasta_destino}' não existe. Criando...\")\n",
    "        os.makedirs(pasta_destino)\n",
    "\n",
    "    try:\n",
    "        arquivos_disponiveis = [f for f in os.listdir(pasta_origem) if os.path.isfile(os.path.join(pasta_origem, f))]\n",
    "    except Exception as e:\n",
    "        print(f\"Erro ao ler os arquivos da pasta de origem: {e}\")\n",
    "        return\n",
    "\n",
    "    if not arquivos_disponiveis:\n",
    "        print(f\"A pasta de origem '{pasta_origem}' está vazia. Nenhum arquivo para copiar.\")\n",
    "        return\n",
    "\n",
    "    num_disponiveis = len(arquivos_disponiveis)\n",
    "    if num_disponiveis < numero_de_arquivos:\n",
    "        print(f\"Aviso: Você pediu para copiar {numero_de_arquivos} arquivos, mas só existem {num_disponiveis}.\")\n",
    "        print(\"Copiando todos os arquivos disponíveis.\")\n",
    "        numero_de_arquivos = num_disponiveis\n",
    "\n",
    "    arquivos_para_copiar = random.sample(arquivos_disponiveis, numero_de_arquivos)\n",
    "    print(f\"Selecionando {len(arquivos_para_copiar)} de {num_disponiveis} arquivos para copiar...\")\n",
    "\n",
    "    arquivos_copiados = 0\n",
    "    for nome_do_arquivo in arquivos_para_copiar:\n",
    "        caminho_origem_completo = os.path.join(pasta_origem, nome_do_arquivo)\n",
    "        caminho_destino_completo = os.path.join(pasta_destino, nome_do_arquivo)\n",
    "\n",
    "        try:\n",
    "            shutil.copy2(caminho_origem_completo, caminho_destino_completo)\n",
    "            arquivos_copiados += 1\n",
    "        except Exception as e:\n",
    "            print(f\"Não foi possível copiar o arquivo '{nome_do_arquivo}'. Erro: {e}\")\n",
    "\n",
    "    print(f\"\\nConcluído! {arquivos_copiados} arquivos foram copiados com sucesso para '{pasta_destino}'.\")"
   ],
   "id": "a0a8bffff3ea9c50",
   "outputs": [],
   "execution_count": 3
  },
  {
   "metadata": {},
   "cell_type": "code",
   "source": [
    "pasta_de_origem = 'FrameVideos/Normal'\n",
    "pasta_de_destino = 'Frames2Treinamento/Normal'\n",
    "quantidade_a_copiar = 2000\n",
    "copiar_arquivos_aleatorios(pasta_de_origem, pasta_de_destino, quantidade_a_copiar)"
   ],
   "id": "8cf72eb353b87d4",
   "outputs": [],
   "execution_count": null
  },
  {
   "metadata": {},
   "cell_type": "markdown",
   "source": "Função para ver todos os contornos de uma imagem",
   "id": "811c8643aea928b0"
  },
  {
   "metadata": {
    "ExecuteTime": {
     "end_time": "2025-06-28T16:35:33.709009Z",
     "start_time": "2025-06-28T16:35:33.705568Z"
    }
   },
   "cell_type": "code",
   "source": [
    "def verContornos(diretorio):\n",
    "    for nome_arquivo in os.listdir(diretorio):\n",
    "        caminho_img = os.path.join(diretorio, nome_arquivo)\n",
    "        img = cv2.imread(caminho_img)\n",
    "\n",
    "        contornos = extrair_contornos(img)\n",
    "\n",
    "        cv2.drawContours(img, contornos, -1, (0, 255, 0), 2)\n",
    "\n",
    "        cv2.imshow(\"Contornos\", img)\n",
    "\n",
    "        if cv2.waitKey(25) & 0xFF == ord('q'):\n",
    "            break\n",
    "\n",
    "    cv2.destroyAllWindows()"
   ],
   "id": "8de77d9d99d69bd5",
   "outputs": [],
   "execution_count": 2
  },
  {
   "metadata": {
    "ExecuteTime": {
     "end_time": "2025-06-28T22:10:25.596391Z",
     "start_time": "2025-06-28T22:09:58.324815Z"
    }
   },
   "cell_type": "code",
   "source": "verContornos('FrameVideos/Fire')",
   "id": "387691a4fcf7620b",
   "outputs": [],
   "execution_count": 5
  },
  {
   "metadata": {},
   "cell_type": "code",
   "outputs": [],
   "execution_count": null,
   "source": "",
   "id": "bdf909b8c626fd0f"
  }
 ],
 "metadata": {
  "kernelspec": {
   "display_name": "Python 3",
   "language": "python",
   "name": "python3"
  },
  "language_info": {
   "codemirror_mode": {
    "name": "ipython",
    "version": 2
   },
   "file_extension": ".py",
   "mimetype": "text/x-python",
   "name": "python",
   "nbconvert_exporter": "python",
   "pygments_lexer": "ipython2",
   "version": "2.7.6"
  }
 },
 "nbformat": 4,
 "nbformat_minor": 5
}
